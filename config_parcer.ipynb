{
 "cells": [
  {
   "cell_type": "code",
   "execution_count": 20,
   "metadata": {},
   "outputs": [],
   "source": [
    "from config_parser_v5 import ConfigTree"
   ]
  },
  {
   "cell_type": "code",
   "execution_count": 21,
   "metadata": {},
   "outputs": [],
   "source": [
    "cfg1 = ConfigTree(\n",
    "    config_file=\"./data/cfg1_sample.txt\",\n",
    "    template_file=\"./data/template_sample.j2\",\n",
    "    priority=110,\n",
    ")\n",
    "cfg2 = ConfigTree(\n",
    "    config_file=\"./data/cfg2_sample.txt\",\n",
    "    template_file=\"./data/template_sample.j2\",\n",
    "    priority=120,\n",
    ")\n",
    "template = ConfigTree(\n",
    "    config_file=\"./data/template_sample.j2\",\n",
    "    priority=130,\n",
    ")"
   ]
  },
  {
   "cell_type": "code",
   "execution_count": 22,
   "metadata": {},
   "outputs": [
    {
     "name": "stdout",
     "output_type": "stream",
     "text": [
      "\n"
     ]
    }
   ],
   "source": [
    "print(cfg1.search(\"address\").show_config())"
   ]
  },
  {
   "cell_type": "code",
   "execution_count": 23,
   "metadata": {},
   "outputs": [
    {
     "name": "stdout",
     "output_type": "stream",
     "text": [
      "router bgp {{ BGP_AS }} |> {'BGP_AS': '65000'}\n",
      " bgp router-id {{ BGP_RID }} |> {'BGP_RID': '2.2.2.2'}\n",
      " bgp timers 90 30\n"
     ]
    }
   ],
   "source": [
    "print(cfg2.show_config(raw=True))\n"
   ]
  },
  {
   "cell_type": "code",
   "execution_count": 24,
   "metadata": {},
   "outputs": [
    {
     "name": "stdout",
     "output_type": "stream",
     "text": [
      "version 1.2.3\n",
      "line vty 0 15\n",
      " access-class {{ ACL_NUMBER }} in vrf-also |> {'ACL_NUMBER': '10'}\n",
      " exec-timeout 30 0\n",
      " logging synchronous\n",
      " transport preferred none\n",
      " transport input telnet ssh\n",
      " transport output telnet ssh\n",
      "ntp source {{ NTP_SRC }} |> {'NTP_SRC': 'Vlan10'}\n",
      "ntp update-calendar\n",
      "ntp server {{ NTP }} |> {'NTP': '8.7.6.5'}\n",
      "snmp-server community 5}dkljsasc!r RO 1\n",
      "snmp-server community lkjd{ckl}!s1 RO 2\n",
      "router bgp {{ BGP_AS }} |> {'BGP_AS': '65000'}\n",
      " bgp router-id {{ BGP_RID }} |> {'BGP_RID': '1.1.1.1'}\n",
      " neighbor {{ PEER_IP }} peer-group PEER |> {'PEER_IP': '2.2.2.2'}\n",
      " address-family ipv4\n",
      "  maximum-paths ibgp {{ MAX_PATHS }} |> {'MAX_PATHS': '2'}\n",
      "ip forward-protocol nd\n",
      "no ip http server\n",
      "no ip http secure-server\n"
     ]
    }
   ],
   "source": [
    "print(cfg1.show_config(raw=True))"
   ]
  },
  {
   "cell_type": "code",
   "execution_count": 25,
   "metadata": {},
   "outputs": [
    {
     "name": "stdout",
     "output_type": "stream",
     "text": [
      "router bgp 65000\n",
      "router bgp {{ BGP_AS }}\n"
     ]
    }
   ],
   "source": [
    "print(cfg1.child[7])\n",
    "print(template.child[3])"
   ]
  },
  {
   "cell_type": "code",
   "execution_count": 26,
   "metadata": {},
   "outputs": [
    {
     "data": {
      "text/plain": [
       "False"
      ]
     },
     "execution_count": 26,
     "metadata": {},
     "output_type": "execute_result"
    }
   ],
   "source": [
    "cfg1.child[7].eq(template.child[3], templ=True, bidir=False)"
   ]
  },
  {
   "cell_type": "code",
   "execution_count": 27,
   "metadata": {},
   "outputs": [
    {
     "data": {
      "text/plain": [
       "True"
      ]
     },
     "execution_count": 27,
     "metadata": {},
     "output_type": "execute_result"
    }
   ],
   "source": [
    "template.child[3].eq(cfg1.child[7], templ=True, bidir=False)"
   ]
  },
  {
   "cell_type": "code",
   "execution_count": 28,
   "metadata": {},
   "outputs": [
    {
     "name": "stdout",
     "output_type": "stream",
     "text": [
      "version 1.2.3\n",
      "line vty 0 15\n",
      " access-class 10 in vrf-also\n",
      " exec-timeout 30 0\n",
      " logging synchronous\n",
      " transport preferred none\n",
      " transport input telnet ssh\n",
      " transport output telnet ssh\n",
      "ntp source Vlan10\n",
      "ntp update-calendar\n",
      "ntp server 8.7.6.5\n",
      "snmp-server community 5}dkljsasc!r RO 1\n",
      "snmp-server community lkjd{ckl}!s1 RO 2\n",
      "router bgp 65000\n",
      " bgp router-id 1.1.1.1\n",
      " neighbor 2.2.2.2 peer-group PEER\n",
      " address-family ipv4\n",
      "  maximum-paths ibgp 2\n",
      "ip forward-protocol nd\n",
      "no ip http server\n",
      "no ip http secure-server\n",
      "----------\n",
      "router bgp 65000\n",
      " bgp router-id 2.2.2.2\n",
      " bgp timers 90 30\n"
     ]
    }
   ],
   "source": [
    "print(cfg1.show_config())\n",
    "print(\"-\" * 10)\n",
    "print(cfg2.show_config())\n"
   ]
  },
  {
   "cell_type": "code",
   "execution_count": 29,
   "metadata": {},
   "outputs": [],
   "source": [
    "# cfg1.merge(cfg2)\n",
    "# print(cfg1.show_config(raw=True))"
   ]
  },
  {
   "cell_type": "code",
   "execution_count": 30,
   "metadata": {},
   "outputs": [
    {
     "name": "stdout",
     "output_type": "stream",
     "text": [
      "version 1.2.3\n",
      "line vty 0 15\n",
      " access-class {{ ACL_NUMBER }} in vrf-also |> {'ACL_NUMBER': '10'}\n",
      " exec-timeout 30 0\n",
      " logging synchronous\n",
      " transport preferred none\n",
      " transport input telnet ssh\n",
      " transport output telnet ssh\n",
      "ntp source {{ NTP_SRC }} |> {'NTP_SRC': 'Vlan10'}\n",
      "ntp update-calendar\n",
      "ntp server {{ NTP }} |> {'NTP': '8.7.6.5'}\n",
      "snmp-server community 5}dkljsasc!r RO 1\n",
      "snmp-server community lkjd{ckl}!s1 RO 2\n",
      "router bgp {{ BGP_AS }} |> {'BGP_AS': '65000'}\n",
      "ip forward-protocol nd\n",
      "no ip http server\n",
      "no ip http secure-server\n"
     ]
    }
   ],
   "source": [
    "cfg1.replace(cfg2)\n",
    "print(cfg1.show_config(raw=True))"
   ]
  }
 ],
 "metadata": {
  "interpreter": {
   "hash": "550056ff3b6c24ef08b20d0608428d73c2737dc12cdd6267fe4ea38c5eab2d02"
  },
  "kernelspec": {
   "display_name": "Python 3.8.9 ('venv': venv)",
   "language": "python",
   "name": "python3"
  },
  "language_info": {
   "codemirror_mode": {
    "name": "ipython",
    "version": 3
   },
   "file_extension": ".py",
   "mimetype": "text/x-python",
   "name": "python",
   "nbconvert_exporter": "python",
   "pygments_lexer": "ipython3",
   "version": "3.8.9"
  },
  "orig_nbformat": 4
 },
 "nbformat": 4,
 "nbformat_minor": 2
}
